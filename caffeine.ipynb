{
 "cells": [
  {
   "cell_type": "code",
   "execution_count": 55,
   "id": "7a53f513-9250-4300-8a4a-ee8edd2ef1a7",
   "metadata": {},
   "outputs": [],
   "source": [
    "# Imports:\n",
    "import pandas as pd\n",
    "import numpy as np\n",
    "import matplotlib.pyplot as plt\n",
    "import seaborn as sns\n",
    "from sklearn.model_selection import cross_val_score, train_test_split, GridSearchCV\n",
    "from sklearn.ensemble import RandomForestClassifier, ExtraTreesClassifier\n",
    "from sklearn.feature_extraction.text import CountVectorizer, TfidfVectorizer\n",
    "from sklearn.metrics import confusion_matrix, plot_confusion_matrix\n",
    "from sklearn.pipeline import Pipeline\n",
    "from sklearn.naive_bayes import MultinomialNB\n",
    "from sklearn.model_selection import train_test_split, cross_val_score\n",
    "from sklearn.linear_model import LinearRegression, LogisticRegression\n",
    "from sklearn.preprocessing import StandardScaler, PolynomialFeatures\n",
    "from sklearn import metrics"
   ]
  },
  {
   "cell_type": "code",
   "execution_count": 56,
   "id": "baaf9cc9-72c8-4028-ab22-a9c67b664323",
   "metadata": {},
   "outputs": [
    {
     "data": {
      "text/html": [
       "<div>\n",
       "<style scoped>\n",
       "    .dataframe tbody tr th:only-of-type {\n",
       "        vertical-align: middle;\n",
       "    }\n",
       "\n",
       "    .dataframe tbody tr th {\n",
       "        vertical-align: top;\n",
       "    }\n",
       "\n",
       "    .dataframe thead th {\n",
       "        text-align: right;\n",
       "    }\n",
       "</style>\n",
       "<table border=\"1\" class=\"dataframe\">\n",
       "  <thead>\n",
       "    <tr style=\"text-align: right;\">\n",
       "      <th></th>\n",
       "      <th>drink</th>\n",
       "      <th>Volume (ml)</th>\n",
       "      <th>Calories</th>\n",
       "      <th>Caffeine (mg)</th>\n",
       "      <th>type</th>\n",
       "    </tr>\n",
       "  </thead>\n",
       "  <tbody>\n",
       "    <tr>\n",
       "      <th>0</th>\n",
       "      <td>Costa Coffee</td>\n",
       "      <td>256.993715</td>\n",
       "      <td>0</td>\n",
       "      <td>277</td>\n",
       "      <td>Coffee</td>\n",
       "    </tr>\n",
       "    <tr>\n",
       "      <th>1</th>\n",
       "      <td>Coffee Friend Brewed Coffee</td>\n",
       "      <td>250.191810</td>\n",
       "      <td>0</td>\n",
       "      <td>145</td>\n",
       "      <td>Coffee</td>\n",
       "    </tr>\n",
       "    <tr>\n",
       "      <th>2</th>\n",
       "      <td>Hell Energy Coffee</td>\n",
       "      <td>250.191810</td>\n",
       "      <td>150</td>\n",
       "      <td>100</td>\n",
       "      <td>Coffee</td>\n",
       "    </tr>\n",
       "    <tr>\n",
       "      <th>3</th>\n",
       "      <td>Killer Coffee (AU)</td>\n",
       "      <td>250.191810</td>\n",
       "      <td>0</td>\n",
       "      <td>430</td>\n",
       "      <td>Coffee</td>\n",
       "    </tr>\n",
       "    <tr>\n",
       "      <th>4</th>\n",
       "      <td>Nescafe Gold</td>\n",
       "      <td>250.191810</td>\n",
       "      <td>0</td>\n",
       "      <td>66</td>\n",
       "      <td>Coffee</td>\n",
       "    </tr>\n",
       "  </tbody>\n",
       "</table>\n",
       "</div>"
      ],
      "text/plain": [
       "                         drink  Volume (ml)  Calories  Caffeine (mg)    type\n",
       "0                 Costa Coffee   256.993715         0            277  Coffee\n",
       "1  Coffee Friend Brewed Coffee   250.191810         0            145  Coffee\n",
       "2           Hell Energy Coffee   250.191810       150            100  Coffee\n",
       "3           Killer Coffee (AU)   250.191810         0            430  Coffee\n",
       "4                 Nescafe Gold   250.191810         0             66  Coffee"
      ]
     },
     "execution_count": 56,
     "metadata": {},
     "output_type": "execute_result"
    }
   ],
   "source": [
    "#Data taken from https://www.kaggle.com/datasets/heitornunes/caffeine-content-of-drinks\n",
    "df = pd.read_csv('data/caffeine.csv') \n",
    "df.head()"
   ]
  },
  {
   "cell_type": "markdown",
   "id": "096da93b-54ae-4204-9cc8-5a343344192b",
   "metadata": {},
   "source": [
    "## My goal for this project is to make models to see if the algorithm can predict what type of drinks it is, based on a few key details given to us by the data set"
   ]
  },
  {
   "cell_type": "code",
   "execution_count": 57,
   "id": "7d2e9f9c-b037-45d5-aa5e-869d7d1dde77",
   "metadata": {},
   "outputs": [
    {
     "data": {
      "text/plain": [
       "drink            0\n",
       "Volume (ml)      0\n",
       "Calories         0\n",
       "Caffeine (mg)    0\n",
       "type             0\n",
       "dtype: int64"
      ]
     },
     "execution_count": 57,
     "metadata": {},
     "output_type": "execute_result"
    }
   ],
   "source": [
    "df.isna().sum()"
   ]
  },
  {
   "cell_type": "markdown",
   "id": "595bdc4e-1dc5-4b93-9435-844b6ef1aae3",
   "metadata": {},
   "source": [
    "Let's see if there is a trend between the Values"
   ]
  },
  {
   "cell_type": "code",
   "execution_count": 58,
   "id": "50ab4abc-2ae8-4e99-8228-e37f3b162234",
   "metadata": {},
   "outputs": [
    {
     "data": {
      "image/png": "[encoded data removed]",
      "text/plain": [
       "<Figure size 720x576 with 2 Axes>"
      ]
     },
     "metadata": {
      "needs_background": "light"
     },
     "output_type": "display_data"
    }
   ],
   "source": [
    "plt.figure(figsize = (10, 8))\n",
    "\n",
    "sns.heatmap(df.corr(),\n",
    "           cmap = 'coolwarm',\n",
    "           annot = True,\n",
    "           vmin = -1,\n",
    "           vmax = 1);\n",
    "\n",
    "plt.savefig('pics/heatmap1.png')"
   ]
  },
  {
   "cell_type": "markdown",
   "id": "29135cc1-8cf2-47d6-aac6-810b15a56720",
   "metadata": {},
   "source": [
    "The main Correlation is between Calories and Volume"
   ]
  },
  {
   "cell_type": "code",
   "execution_count": 59,
   "id": "a6810b6d-ca31-48ee-9b52-ec6389962c0b",
   "metadata": {},
   "outputs": [
    {
     "data": {
      "text/plain": [
       "array(['Coffee', 'Energy Drinks', 'Energy Shots', 'Soft Drinks', 'Tea',\n",
       "       'Water'], dtype=object)"
      ]
     },
     "execution_count": 59,
     "metadata": {},
     "output_type": "execute_result"
    }
   ],
   "source": [
    "df['type'].unique()"
   ]
  },
  {
   "cell_type": "code",
   "execution_count": 60,
   "id": "fc76d738-6a08-4cc5-98a1-f2442aa04f27",
   "metadata": {},
   "outputs": [],
   "source": [
    "df['type_num'] = df['type'].map({'Coffee': 0, 'Energy Drinks': 1, 'Energy Shots': 2, 'Soft Drinks': 3, 'Tea': 4, 'Water': 5})"
   ]
  },
  {
   "cell_type": "code",
   "execution_count": 61,
   "id": "27966b77-6214-4633-a849-9638a6a3b6a2",
   "metadata": {},
   "outputs": [
    {
     "data": {
      "text/html": [
       "<div>\n",
       "<style scoped>\n",
       "    .dataframe tbody tr th:only-of-type {\n",
       "        vertical-align: middle;\n",
       "    }\n",
       "\n",
       "    .dataframe tbody tr th {\n",
       "        vertical-align: top;\n",
       "    }\n",
       "\n",
       "    .dataframe thead th {\n",
       "        text-align: right;\n",
       "    }\n",
       "</style>\n",
       "<table border=\"1\" class=\"dataframe\">\n",
       "  <thead>\n",
       "    <tr style=\"text-align: right;\">\n",
       "      <th></th>\n",
       "      <th>drink</th>\n",
       "      <th>Volume (ml)</th>\n",
       "      <th>Calories</th>\n",
       "      <th>Caffeine (mg)</th>\n",
       "      <th>type</th>\n",
       "      <th>type_num</th>\n",
       "    </tr>\n",
       "  </thead>\n",
       "  <tbody>\n",
       "    <tr>\n",
       "      <th>0</th>\n",
       "      <td>Costa Coffee</td>\n",
       "      <td>256.993715</td>\n",
       "      <td>0</td>\n",
       "      <td>277</td>\n",
       "      <td>Coffee</td>\n",
       "      <td>0</td>\n",
       "    </tr>\n",
       "    <tr>\n",
       "      <th>1</th>\n",
       "      <td>Coffee Friend Brewed Coffee</td>\n",
       "      <td>250.191810</td>\n",
       "      <td>0</td>\n",
       "      <td>145</td>\n",
       "      <td>Coffee</td>\n",
       "      <td>0</td>\n",
       "    </tr>\n",
       "    <tr>\n",
       "      <th>2</th>\n",
       "      <td>Hell Energy Coffee</td>\n",
       "      <td>250.191810</td>\n",
       "      <td>150</td>\n",
       "      <td>100</td>\n",
       "      <td>Coffee</td>\n",
       "      <td>0</td>\n",
       "    </tr>\n",
       "    <tr>\n",
       "      <th>3</th>\n",
       "      <td>Killer Coffee (AU)</td>\n",
       "      <td>250.191810</td>\n",
       "      <td>0</td>\n",
       "      <td>430</td>\n",
       "      <td>Coffee</td>\n",
       "      <td>0</td>\n",
       "    </tr>\n",
       "    <tr>\n",
       "      <th>4</th>\n",
       "      <td>Nescafe Gold</td>\n",
       "      <td>250.191810</td>\n",
       "      <td>0</td>\n",
       "      <td>66</td>\n",
       "      <td>Coffee</td>\n",
       "      <td>0</td>\n",
       "    </tr>\n",
       "  </tbody>\n",
       "</table>\n",
       "</div>"
      ],
      "text/plain": [
       "                         drink  Volume (ml)  Calories  Caffeine (mg)    type  \\\n",
       "0                 Costa Coffee   256.993715         0            277  Coffee   \n",
       "1  Coffee Friend Brewed Coffee   250.191810         0            145  Coffee   \n",
       "2           Hell Energy Coffee   250.191810       150            100  Coffee   \n",
       "3           Killer Coffee (AU)   250.191810         0            430  Coffee   \n",
       "4                 Nescafe Gold   250.191810         0             66  Coffee   \n",
       "\n",
       "   type_num  \n",
       "0         0  \n",
       "1         0  \n",
       "2         0  \n",
       "3         0  \n",
       "4         0  "
      ]
     },
     "execution_count": 61,
     "metadata": {},
     "output_type": "execute_result"
    }
   ],
   "source": [
    "df.head()"
   ]
  },
  {
   "cell_type": "code",
   "execution_count": 62,
   "id": "4df22188-5009-46ca-998e-6b80fa1062f8",
   "metadata": {},
   "outputs": [
    {
     "data": {
      "image/png": "[encoded data removed]",
      "text/plain": [
       "<Figure size 432x288 with 1 Axes>"
      ]
     },
     "metadata": {
      "needs_background": "light"
     },
     "output_type": "display_data"
    }
   ],
   "source": [
    "# matplotlib KNN visualization\n",
    "\n",
    "colors = {0: 'brown', 1:'red', 2:'purple', 3: 'yellow', 4: 'lightgreen', 5: 'aqua'}\n",
    "\n",
    "color_series = df['type_num'].map(colors)\n",
    "\n",
    "plt.scatter(df['Volume (ml)'],\n",
    "           df['Caffeine (mg)'],\n",
    "           color = color_series)\n",
    "\n",
    "plt.xlabel('Volume (ml)')\n",
    "plt.ylabel('Caffeine (mg)');\n",
    "\n",
    "plt.savefig('pics/knn.png')"
   ]
  },
  {
   "cell_type": "markdown",
   "id": "4a9a7626-244e-41ae-94d5-c179d60f93a0",
   "metadata": {},
   "source": [
    "It seems that there may be some correlation between caffeine content and weather the drink is coffee or not. Let's make some dummy variables"
   ]
  },
  {
   "cell_type": "code",
   "execution_count": 63,
   "id": "bc75738a-c15a-4cb8-9c70-a395c23bf340",
   "metadata": {},
   "outputs": [
    {
     "data": {
      "text/html": [
       "<div>\n",
       "<style scoped>\n",
       "    .dataframe tbody tr th:only-of-type {\n",
       "        vertical-align: middle;\n",
       "    }\n",
       "\n",
       "    .dataframe tbody tr th {\n",
       "        vertical-align: top;\n",
       "    }\n",
       "\n",
       "    .dataframe thead th {\n",
       "        text-align: right;\n",
       "    }\n",
       "</style>\n",
       "<table border=\"1\" class=\"dataframe\">\n",
       "  <thead>\n",
       "    <tr style=\"text-align: right;\">\n",
       "      <th></th>\n",
       "      <th>drink</th>\n",
       "      <th>Volume (ml)</th>\n",
       "      <th>Calories</th>\n",
       "      <th>Caffeine (mg)</th>\n",
       "      <th>type_Coffee</th>\n",
       "      <th>type_Energy Drinks</th>\n",
       "      <th>type_Energy Shots</th>\n",
       "      <th>type_Soft Drinks</th>\n",
       "      <th>type_Tea</th>\n",
       "      <th>type_Water</th>\n",
       "    </tr>\n",
       "  </thead>\n",
       "  <tbody>\n",
       "    <tr>\n",
       "      <th>0</th>\n",
       "      <td>Costa Coffee</td>\n",
       "      <td>256.993715</td>\n",
       "      <td>0</td>\n",
       "      <td>277</td>\n",
       "      <td>1</td>\n",
       "      <td>0</td>\n",
       "      <td>0</td>\n",
       "      <td>0</td>\n",
       "      <td>0</td>\n",
       "      <td>0</td>\n",
       "    </tr>\n",
       "    <tr>\n",
       "      <th>1</th>\n",
       "      <td>Coffee Friend Brewed Coffee</td>\n",
       "      <td>250.191810</td>\n",
       "      <td>0</td>\n",
       "      <td>145</td>\n",
       "      <td>1</td>\n",
       "      <td>0</td>\n",
       "      <td>0</td>\n",
       "      <td>0</td>\n",
       "      <td>0</td>\n",
       "      <td>0</td>\n",
       "    </tr>\n",
       "    <tr>\n",
       "      <th>2</th>\n",
       "      <td>Hell Energy Coffee</td>\n",
       "      <td>250.191810</td>\n",
       "      <td>150</td>\n",
       "      <td>100</td>\n",
       "      <td>1</td>\n",
       "      <td>0</td>\n",
       "      <td>0</td>\n",
       "      <td>0</td>\n",
       "      <td>0</td>\n",
       "      <td>0</td>\n",
       "    </tr>\n",
       "    <tr>\n",
       "      <th>3</th>\n",
       "      <td>Killer Coffee (AU)</td>\n",
       "      <td>250.191810</td>\n",
       "      <td>0</td>\n",
       "      <td>430</td>\n",
       "      <td>1</td>\n",
       "      <td>0</td>\n",
       "      <td>0</td>\n",
       "      <td>0</td>\n",
       "      <td>0</td>\n",
       "      <td>0</td>\n",
       "    </tr>\n",
       "    <tr>\n",
       "      <th>4</th>\n",
       "      <td>Nescafe Gold</td>\n",
       "      <td>250.191810</td>\n",
       "      <td>0</td>\n",
       "      <td>66</td>\n",
       "      <td>1</td>\n",
       "      <td>0</td>\n",
       "      <td>0</td>\n",
       "      <td>0</td>\n",
       "      <td>0</td>\n",
       "      <td>0</td>\n",
       "    </tr>\n",
       "  </tbody>\n",
       "</table>\n",
       "</div>"
      ],
      "text/plain": [
       "                         drink  Volume (ml)  Calories  Caffeine (mg)  \\\n",
       "0                 Costa Coffee   256.993715         0            277   \n",
       "1  Coffee Friend Brewed Coffee   250.191810         0            145   \n",
       "2           Hell Energy Coffee   250.191810       150            100   \n",
       "3           Killer Coffee (AU)   250.191810         0            430   \n",
       "4                 Nescafe Gold   250.191810         0             66   \n",
       "\n",
       "   type_Coffee  type_Energy Drinks  type_Energy Shots  type_Soft Drinks  \\\n",
       "0            1                   0                  0                 0   \n",
       "1            1                   0                  0                 0   \n",
       "2            1                   0                  0                 0   \n",
       "3            1                   0                  0                 0   \n",
       "4            1                   0                  0                 0   \n",
       "\n",
       "   type_Tea  type_Water  \n",
       "0         0           0  \n",
       "1         0           0  \n",
       "2         0           0  \n",
       "3         0           0  \n",
       "4         0           0  "
      ]
     },
     "execution_count": 63,
     "metadata": {},
     "output_type": "execute_result"
    }
   ],
   "source": [
    "df_dummies = pd.get_dummies(data=df.drop(columns=['type_num']), columns=['type'])\n",
    "df_dummies.head()"
   ]
  },
  {
   "cell_type": "code",
   "execution_count": 64,
   "id": "686c6b26-9868-48ae-8b81-5c51898afd6d",
   "metadata": {},
   "outputs": [
    {
     "data": {
      "image/png": "[encoded data removed]",
      "text/plain": [
       "<Figure size 720x576 with 2 Axes>"
      ]
     },
     "metadata": {
      "needs_background": "light"
     },
     "output_type": "display_data"
    }
   ],
   "source": [
    "plt.figure(figsize = (10, 8))\n",
    "\n",
    "sns.heatmap(df_dummies.corr(),\n",
    "           cmap = 'coolwarm',\n",
    "           annot = True,\n",
    "           vmin = -1,\n",
    "           vmax = 1);\n",
    "\n",
    "plt.savefig('pics/heatmap2.png')"
   ]
  },
  {
   "cell_type": "markdown",
   "id": "ce3715f9-f6d8-4eba-9995-45d34a79da78",
   "metadata": {},
   "source": [
    "We see a strong negative correlation between energy shots and volume which is understandable. We also see that Coffee is most highly correlated with high caffeine count."
   ]
  },
  {
   "cell_type": "markdown",
   "id": "7db3eae3-8385-4956-bcf7-da070857a97c",
   "metadata": {},
   "source": [
    "Let's see if we can predict the drink type based on the 3 metrics. We will see if we can predict if the drink is coffee or not."
   ]
  },
  {
   "cell_type": "code",
   "execution_count": 65,
   "id": "e48d7a96-be4b-4229-b027-213f5c7fad19",
   "metadata": {},
   "outputs": [
    {
     "data": {
      "text/html": [
       "<div>\n",
       "<style scoped>\n",
       "    .dataframe tbody tr th:only-of-type {\n",
       "        vertical-align: middle;\n",
       "    }\n",
       "\n",
       "    .dataframe tbody tr th {\n",
       "        vertical-align: top;\n",
       "    }\n",
       "\n",
       "    .dataframe thead th {\n",
       "        text-align: right;\n",
       "    }\n",
       "</style>\n",
       "<table border=\"1\" class=\"dataframe\">\n",
       "  <thead>\n",
       "    <tr style=\"text-align: right;\">\n",
       "      <th></th>\n",
       "      <th>drink</th>\n",
       "      <th>Volume (ml)</th>\n",
       "      <th>Calories</th>\n",
       "      <th>Caffeine (mg)</th>\n",
       "      <th>type</th>\n",
       "      <th>type_num</th>\n",
       "    </tr>\n",
       "  </thead>\n",
       "  <tbody>\n",
       "    <tr>\n",
       "      <th>0</th>\n",
       "      <td>Costa Coffee</td>\n",
       "      <td>256.993715</td>\n",
       "      <td>0</td>\n",
       "      <td>277</td>\n",
       "      <td>Coffee</td>\n",
       "      <td>0</td>\n",
       "    </tr>\n",
       "    <tr>\n",
       "      <th>1</th>\n",
       "      <td>Coffee Friend Brewed Coffee</td>\n",
       "      <td>250.191810</td>\n",
       "      <td>0</td>\n",
       "      <td>145</td>\n",
       "      <td>Coffee</td>\n",
       "      <td>0</td>\n",
       "    </tr>\n",
       "    <tr>\n",
       "      <th>2</th>\n",
       "      <td>Hell Energy Coffee</td>\n",
       "      <td>250.191810</td>\n",
       "      <td>150</td>\n",
       "      <td>100</td>\n",
       "      <td>Coffee</td>\n",
       "      <td>0</td>\n",
       "    </tr>\n",
       "    <tr>\n",
       "      <th>3</th>\n",
       "      <td>Killer Coffee (AU)</td>\n",
       "      <td>250.191810</td>\n",
       "      <td>0</td>\n",
       "      <td>430</td>\n",
       "      <td>Coffee</td>\n",
       "      <td>0</td>\n",
       "    </tr>\n",
       "    <tr>\n",
       "      <th>4</th>\n",
       "      <td>Nescafe Gold</td>\n",
       "      <td>250.191810</td>\n",
       "      <td>0</td>\n",
       "      <td>66</td>\n",
       "      <td>Coffee</td>\n",
       "      <td>0</td>\n",
       "    </tr>\n",
       "  </tbody>\n",
       "</table>\n",
       "</div>"
      ],
      "text/plain": [
       "                         drink  Volume (ml)  Calories  Caffeine (mg)    type  \\\n",
       "0                 Costa Coffee   256.993715         0            277  Coffee   \n",
       "1  Coffee Friend Brewed Coffee   250.191810         0            145  Coffee   \n",
       "2           Hell Energy Coffee   250.191810       150            100  Coffee   \n",
       "3           Killer Coffee (AU)   250.191810         0            430  Coffee   \n",
       "4                 Nescafe Gold   250.191810         0             66  Coffee   \n",
       "\n",
       "   type_num  \n",
       "0         0  \n",
       "1         0  \n",
       "2         0  \n",
       "3         0  \n",
       "4         0  "
      ]
     },
     "execution_count": 65,
     "metadata": {},
     "output_type": "execute_result"
    }
   ],
   "source": [
    "df.head()"
   ]
  },
  {
   "cell_type": "code",
   "execution_count": 66,
   "id": "14efa005-1549-461b-8291-2c5cbc390b6a",
   "metadata": {},
   "outputs": [
    {
     "data": {
      "text/html": [
       "<div>\n",
       "<style scoped>\n",
       "    .dataframe tbody tr th:only-of-type {\n",
       "        vertical-align: middle;\n",
       "    }\n",
       "\n",
       "    .dataframe tbody tr th {\n",
       "        vertical-align: top;\n",
       "    }\n",
       "\n",
       "    .dataframe thead th {\n",
       "        text-align: right;\n",
       "    }\n",
       "</style>\n",
       "<table border=\"1\" class=\"dataframe\">\n",
       "  <thead>\n",
       "    <tr style=\"text-align: right;\">\n",
       "      <th></th>\n",
       "      <th>drink</th>\n",
       "      <th>Volume (ml)</th>\n",
       "      <th>Calories</th>\n",
       "      <th>Caffeine (mg)</th>\n",
       "      <th>type</th>\n",
       "      <th>coffee</th>\n",
       "    </tr>\n",
       "  </thead>\n",
       "  <tbody>\n",
       "    <tr>\n",
       "      <th>0</th>\n",
       "      <td>Costa Coffee</td>\n",
       "      <td>256.993715</td>\n",
       "      <td>0</td>\n",
       "      <td>277</td>\n",
       "      <td>Coffee</td>\n",
       "      <td>1</td>\n",
       "    </tr>\n",
       "    <tr>\n",
       "      <th>1</th>\n",
       "      <td>Coffee Friend Brewed Coffee</td>\n",
       "      <td>250.191810</td>\n",
       "      <td>0</td>\n",
       "      <td>145</td>\n",
       "      <td>Coffee</td>\n",
       "      <td>1</td>\n",
       "    </tr>\n",
       "    <tr>\n",
       "      <th>2</th>\n",
       "      <td>Hell Energy Coffee</td>\n",
       "      <td>250.191810</td>\n",
       "      <td>150</td>\n",
       "      <td>100</td>\n",
       "      <td>Coffee</td>\n",
       "      <td>1</td>\n",
       "    </tr>\n",
       "    <tr>\n",
       "      <th>3</th>\n",
       "      <td>Killer Coffee (AU)</td>\n",
       "      <td>250.191810</td>\n",
       "      <td>0</td>\n",
       "      <td>430</td>\n",
       "      <td>Coffee</td>\n",
       "      <td>1</td>\n",
       "    </tr>\n",
       "    <tr>\n",
       "      <th>4</th>\n",
       "      <td>Nescafe Gold</td>\n",
       "      <td>250.191810</td>\n",
       "      <td>0</td>\n",
       "      <td>66</td>\n",
       "      <td>Coffee</td>\n",
       "      <td>1</td>\n",
       "    </tr>\n",
       "  </tbody>\n",
       "</table>\n",
       "</div>"
      ],
      "text/plain": [
       "                         drink  Volume (ml)  Calories  Caffeine (mg)    type  \\\n",
       "0                 Costa Coffee   256.993715         0            277  Coffee   \n",
       "1  Coffee Friend Brewed Coffee   250.191810         0            145  Coffee   \n",
       "2           Hell Energy Coffee   250.191810       150            100  Coffee   \n",
       "3           Killer Coffee (AU)   250.191810         0            430  Coffee   \n",
       "4                 Nescafe Gold   250.191810         0             66  Coffee   \n",
       "\n",
       "   coffee  \n",
       "0       1  \n",
       "1       1  \n",
       "2       1  \n",
       "3       1  \n",
       "4       1  "
      ]
     },
     "execution_count": 66,
     "metadata": {},
     "output_type": "execute_result"
    }
   ],
   "source": [
    "df = df.drop(columns = ['type_num'])\n",
    "df['coffee'] = df['type'].map(lambda x: 1 if x == 'Coffee' else 0)\n",
    "df.head()"
   ]
  },
  {
   "cell_type": "code",
   "execution_count": 67,
   "id": "317b9647-3d61-4162-bba5-732c74f3708f",
   "metadata": {},
   "outputs": [
    {
     "data": {
      "text/plain": [
       "0    0.716393\n",
       "1    0.283607\n",
       "Name: coffee, dtype: float64"
      ]
     },
     "execution_count": 67,
     "metadata": {},
     "output_type": "execute_result"
    }
   ],
   "source": [
    "# Check our baseline\n",
    "y = df['coffee']\n",
    "y.value_counts(normalize=True)"
   ]
  },
  {
   "cell_type": "markdown",
   "id": "8b69060f-81c6-48c5-9fb3-016d509189e4",
   "metadata": {},
   "source": [
    "The model must be able to perform better than 71.6% accurate."
   ]
  },
  {
   "cell_type": "code",
   "execution_count": 68,
   "id": "ca980a04-0720-4ca8-9b33-44b9cdadf77e",
   "metadata": {},
   "outputs": [
    {
     "data": {
      "text/plain": [
       "Volume (ml)     -0.046754\n",
       "Calories        -0.013489\n",
       "Caffeine (mg)    0.267086\n",
       "coffee           1.000000\n",
       "Name: coffee, dtype: float64"
      ]
     },
     "execution_count": 68,
     "metadata": {},
     "output_type": "execute_result"
    }
   ],
   "source": [
    "df.corr()['coffee']"
   ]
  },
  {
   "cell_type": "markdown",
   "id": "09fcd4b5-007c-4b81-892d-1bf1524efda3",
   "metadata": {},
   "source": [
    "Below is the best model I could come up with based on the data. I created a logistic regression model because the answer is either a 1 or a 0 based on numerical variables"
   ]
  },
  {
   "cell_type": "code",
   "execution_count": 69,
   "id": "c42ae4fe-6db9-4a53-ad4b-2d2b2aa016c7",
   "metadata": {},
   "outputs": [],
   "source": [
    "X = df[['Volume (ml)', 'Calories', 'Caffeine (mg)']]"
   ]
  },
  {
   "cell_type": "code",
   "execution_count": 70,
   "id": "a072a03c-830d-41db-a881-4acc0d28458b",
   "metadata": {},
   "outputs": [],
   "source": [
    "poly = PolynomialFeatures(include_bias = False, degree = 2)"
   ]
  },
  {
   "cell_type": "code",
   "execution_count": 71,
   "id": "8778fd02-1aaa-453b-b10f-47e71b3ea5bd",
   "metadata": {},
   "outputs": [],
   "source": [
    "X_poly = poly.fit_transform(X)"
   ]
  },
  {
   "cell_type": "code",
   "execution_count": 72,
   "id": "c47d0110-f076-4ebc-a846-ae1d569f9d4b",
   "metadata": {},
   "outputs": [],
   "source": [
    "# Split the data into the training and testing sets.\n",
    "X_train, X_test, y_train, y_test = train_test_split(X_poly, y, random_state = 42)"
   ]
  },
  {
   "cell_type": "code",
   "execution_count": 73,
   "id": "f681b0b8-0de9-42bc-b9c0-f8895ccb33c1",
   "metadata": {},
   "outputs": [],
   "source": [
    "#Logistic Regression\n",
    "log_r = LogisticRegression()"
   ]
  },
  {
   "cell_type": "code",
   "execution_count": 74,
   "id": "2c8fc773-9f7c-490d-b045-e0443e5e3e95",
   "metadata": {},
   "outputs": [
    {
     "name": "stderr",
     "output_type": "stream",
     "text": [
      "C:\\Users\\matth\\anaconda3\\lib\\site-packages\\sklearn\\linear_model\\_logistic.py:763: ConvergenceWarning: lbfgs failed to converge (status=1):\n",
      "STOP: TOTAL NO. of ITERATIONS REACHED LIMIT.\n",
      "\n",
      "Increase the number of iterations (max_iter) or scale the data as shown in:\n",
      "    https://scikit-learn.org/stable/modules/preprocessing.html\n",
      "Please also refer to the documentation for alternative solver options:\n",
      "    https://scikit-learn.org/stable/modules/linear_model.html#logistic-regression\n",
      "  n_iter_i = _check_optimize_result(\n"
     ]
    },
    {
     "data": {
      "text/plain": [
       "LogisticRegression()"
      ]
     },
     "execution_count": 74,
     "metadata": {},
     "output_type": "execute_result"
    }
   ],
   "source": [
    "log_r.fit(X_train, y_train)"
   ]
  },
  {
   "cell_type": "code",
   "execution_count": 75,
   "id": "75aaae31-fef0-45b1-8fe1-02515b981338",
   "metadata": {},
   "outputs": [
    {
     "name": "stdout",
     "output_type": "stream",
     "text": [
      "Training R2: 0.7352297592997812\n",
      "Testing R2: 0.738562091503268\n"
     ]
    }
   ],
   "source": [
    "print(f'Training R2: {log_r.score(X_train, y_train)}')\n",
    "print(f'Testing R2: {log_r.score(X_test, y_test)}')"
   ]
  },
  {
   "cell_type": "markdown",
   "id": "e002f561-0904-4302-99db-927dcf7f3725",
   "metadata": {},
   "source": [
    "While this model is neither overfit or underfit, it's only marginally better than the baseline."
   ]
  },
  {
   "cell_type": "code",
   "execution_count": 76,
   "id": "acc0c47f-3fd4-426b-9b1d-7f05efa3d6d2",
   "metadata": {},
   "outputs": [
    {
     "data": {
      "image/png": "[encoded data removed]",
      "text/plain": [
       "<Figure size 432x288 with 2 Axes>"
      ]
     },
     "metadata": {
      "needs_background": "light"
     },
     "output_type": "display_data"
    }
   ],
   "source": [
    "# https://github.com/justmarkham/scikit-learn-tips/blob/master/notebooks/20_plot_confusion_matrix.ipynb\n",
    "plot_confusion_matrix(log_r, X_test, y_test, cmap = 'Greens', display_labels = ['Not Coffee', 'Coffee']);\n",
    "\n",
    "plt.savefig('pics/coffee_reg.png')"
   ]
  },
  {
   "cell_type": "markdown",
   "id": "13111ab4-7bf1-48db-b2c8-c3ca39e0a48c",
   "metadata": {},
   "source": [
    "Looking at this confusion matrix, we see that it can guess not coffee better than it can guess coffee. \n",
    "\n",
    "Looking at the names of the drinks, at least in the head, we see that the word coffee appears a lot in coffee drinks. Perhaps we can find a better model as a classification model that looks at the names of the drinks."
   ]
  },
  {
   "cell_type": "code",
   "execution_count": 77,
   "id": "e55bc522-48e7-4f6e-b558-5398c59486d7",
   "metadata": {},
   "outputs": [],
   "source": [
    "X = df['drink']"
   ]
  },
  {
   "cell_type": "code",
   "execution_count": 78,
   "id": "2ea56d73-b8e4-4fe1-8263-18a532629b2f",
   "metadata": {},
   "outputs": [],
   "source": [
    "X_train, X_test, y_train, y_test = train_test_split(X, y, random_state = 42)"
   ]
  },
  {
   "cell_type": "code",
   "execution_count": 79,
   "id": "8a64f3a9-90a3-40de-aecc-0179903441c7",
   "metadata": {},
   "outputs": [],
   "source": [
    "pipe = Pipeline([\n",
    "    ('cvec', CountVectorizer()),\n",
    "    ('nb', MultinomialNB())\n",
    "])"
   ]
  },
  {
   "cell_type": "code",
   "execution_count": 80,
   "id": "7d6a8637-89e8-4d5e-85dd-86900b88735b",
   "metadata": {},
   "outputs": [
    {
     "data": {
      "text/plain": [
       "Pipeline(steps=[('cvec', CountVectorizer()), ('nb', MultinomialNB())])"
      ]
     },
     "execution_count": 80,
     "metadata": {},
     "output_type": "execute_result"
    }
   ],
   "source": [
    "pipe.fit(X_train, y_train)"
   ]
  },
  {
   "cell_type": "code",
   "execution_count": 81,
   "id": "17e0a973-3c1d-4467-bc81-34e6dc8f3e88",
   "metadata": {},
   "outputs": [
    {
     "name": "stdout",
     "output_type": "stream",
     "text": [
      "Train: 0.986870897155361\n",
      "Test: 0.9411764705882353\n"
     ]
    }
   ],
   "source": [
    "print('Train:', pipe.score(X_train, y_train))\n",
    "print('Test:', pipe.score(X_test, y_test))"
   ]
  },
  {
   "cell_type": "code",
   "execution_count": 82,
   "id": "8029cfb7-96f6-4708-aba2-86c561d7fa21",
   "metadata": {},
   "outputs": [
    {
     "data": {
      "image/png": "[encoded data removed]",
      "text/plain": [
       "<Figure size 432x288 with 2 Axes>"
      ]
     },
     "metadata": {
      "needs_background": "light"
     },
     "output_type": "display_data"
    }
   ],
   "source": [
    "# Confusion matrix\n",
    "plot_confusion_matrix(pipe, X_test, y_test, cmap='Greens', display_labels = ['Not Coffee', 'Coffee'])\n",
    "\n",
    "plt.savefig('pics/coffee_class.png')"
   ]
  },
  {
   "cell_type": "markdown",
   "id": "0cac21e8-933b-4bd4-aa54-366017494c67",
   "metadata": {},
   "source": [
    "Here we can see that out of the 153 entries, the model got all but 9 correct. This is a good model.\n",
    "\n",
    "Now that we did that for coffee, let's make a similar model for the other drink types and see if the model is accurate."
   ]
  },
  {
   "cell_type": "code",
   "execution_count": 83,
   "id": "3bfa7276-1b1a-4f35-a038-cd4fcdc513bc",
   "metadata": {},
   "outputs": [
    {
     "data": {
      "text/html": [
       "<div>\n",
       "<style scoped>\n",
       "    .dataframe tbody tr th:only-of-type {\n",
       "        vertical-align: middle;\n",
       "    }\n",
       "\n",
       "    .dataframe tbody tr th {\n",
       "        vertical-align: top;\n",
       "    }\n",
       "\n",
       "    .dataframe thead th {\n",
       "        text-align: right;\n",
       "    }\n",
       "</style>\n",
       "<table border=\"1\" class=\"dataframe\">\n",
       "  <thead>\n",
       "    <tr style=\"text-align: right;\">\n",
       "      <th></th>\n",
       "      <th>drink</th>\n",
       "      <th>Volume (ml)</th>\n",
       "      <th>Calories</th>\n",
       "      <th>Caffeine (mg)</th>\n",
       "      <th>type_Coffee</th>\n",
       "      <th>type_Energy Drinks</th>\n",
       "      <th>type_Energy Shots</th>\n",
       "      <th>type_Soft Drinks</th>\n",
       "      <th>type_Tea</th>\n",
       "      <th>type_Water</th>\n",
       "    </tr>\n",
       "  </thead>\n",
       "  <tbody>\n",
       "    <tr>\n",
       "      <th>0</th>\n",
       "      <td>Costa Coffee</td>\n",
       "      <td>256.993715</td>\n",
       "      <td>0</td>\n",
       "      <td>277</td>\n",
       "      <td>1</td>\n",
       "      <td>0</td>\n",
       "      <td>0</td>\n",
       "      <td>0</td>\n",
       "      <td>0</td>\n",
       "      <td>0</td>\n",
       "    </tr>\n",
       "    <tr>\n",
       "      <th>1</th>\n",
       "      <td>Coffee Friend Brewed Coffee</td>\n",
       "      <td>250.191810</td>\n",
       "      <td>0</td>\n",
       "      <td>145</td>\n",
       "      <td>1</td>\n",
       "      <td>0</td>\n",
       "      <td>0</td>\n",
       "      <td>0</td>\n",
       "      <td>0</td>\n",
       "      <td>0</td>\n",
       "    </tr>\n",
       "    <tr>\n",
       "      <th>2</th>\n",
       "      <td>Hell Energy Coffee</td>\n",
       "      <td>250.191810</td>\n",
       "      <td>150</td>\n",
       "      <td>100</td>\n",
       "      <td>1</td>\n",
       "      <td>0</td>\n",
       "      <td>0</td>\n",
       "      <td>0</td>\n",
       "      <td>0</td>\n",
       "      <td>0</td>\n",
       "    </tr>\n",
       "    <tr>\n",
       "      <th>3</th>\n",
       "      <td>Killer Coffee (AU)</td>\n",
       "      <td>250.191810</td>\n",
       "      <td>0</td>\n",
       "      <td>430</td>\n",
       "      <td>1</td>\n",
       "      <td>0</td>\n",
       "      <td>0</td>\n",
       "      <td>0</td>\n",
       "      <td>0</td>\n",
       "      <td>0</td>\n",
       "    </tr>\n",
       "    <tr>\n",
       "      <th>4</th>\n",
       "      <td>Nescafe Gold</td>\n",
       "      <td>250.191810</td>\n",
       "      <td>0</td>\n",
       "      <td>66</td>\n",
       "      <td>1</td>\n",
       "      <td>0</td>\n",
       "      <td>0</td>\n",
       "      <td>0</td>\n",
       "      <td>0</td>\n",
       "      <td>0</td>\n",
       "    </tr>\n",
       "  </tbody>\n",
       "</table>\n",
       "</div>"
      ],
      "text/plain": [
       "                         drink  Volume (ml)  Calories  Caffeine (mg)  \\\n",
       "0                 Costa Coffee   256.993715         0            277   \n",
       "1  Coffee Friend Brewed Coffee   250.191810         0            145   \n",
       "2           Hell Energy Coffee   250.191810       150            100   \n",
       "3           Killer Coffee (AU)   250.191810         0            430   \n",
       "4                 Nescafe Gold   250.191810         0             66   \n",
       "\n",
       "   type_Coffee  type_Energy Drinks  type_Energy Shots  type_Soft Drinks  \\\n",
       "0            1                   0                  0                 0   \n",
       "1            1                   0                  0                 0   \n",
       "2            1                   0                  0                 0   \n",
       "3            1                   0                  0                 0   \n",
       "4            1                   0                  0                 0   \n",
       "\n",
       "   type_Tea  type_Water  \n",
       "0         0           0  \n",
       "1         0           0  \n",
       "2         0           0  \n",
       "3         0           0  \n",
       "4         0           0  "
      ]
     },
     "execution_count": 83,
     "metadata": {},
     "output_type": "execute_result"
    }
   ],
   "source": [
    "df_dummies.head()"
   ]
  },
  {
   "cell_type": "markdown",
   "id": "fa6bd5dd-eff2-4e1a-b57c-020e4f4db018",
   "metadata": {},
   "source": [
    "Energy Drinks:"
   ]
  },
  {
   "cell_type": "code",
   "execution_count": 84,
   "id": "8591b703-5e96-4397-a710-1bb231539d4a",
   "metadata": {},
   "outputs": [],
   "source": [
    "X = df_dummies['drink']\n",
    "y = df_dummies['type_Energy Drinks']"
   ]
  },
  {
   "cell_type": "code",
   "execution_count": 85,
   "id": "28051b81-8041-41d4-ae08-3fd47fda3848",
   "metadata": {},
   "outputs": [],
   "source": [
    "X_train, X_test, y_train, y_test = train_test_split(X, y, random_state = 42)"
   ]
  },
  {
   "cell_type": "code",
   "execution_count": 86,
   "id": "b0295775-26fd-4d16-8622-65df47afa032",
   "metadata": {},
   "outputs": [
    {
     "data": {
      "text/plain": [
       "Pipeline(steps=[('cvec', CountVectorizer()), ('nb', MultinomialNB())])"
      ]
     },
     "execution_count": 86,
     "metadata": {},
     "output_type": "execute_result"
    }
   ],
   "source": [
    "pipe.fit(X_train, y_train)"
   ]
  },
  {
   "cell_type": "code",
   "execution_count": 87,
   "id": "ad86f3e2-be71-4f8b-b1a0-b8e9e6e79e30",
   "metadata": {},
   "outputs": [
    {
     "name": "stdout",
     "output_type": "stream",
     "text": [
      "Train: 0.9715536105032823\n",
      "Test: 0.9281045751633987\n"
     ]
    }
   ],
   "source": [
    "print('Train:', pipe.score(X_train, y_train))\n",
    "print('Test:', pipe.score(X_test, y_test))"
   ]
  },
  {
   "cell_type": "code",
   "execution_count": 88,
   "id": "d65964eb-dc6d-425f-8dfa-394b02443c4a",
   "metadata": {},
   "outputs": [
    {
     "data": {
      "image/png": "[encoded data removed]",
      "text/plain": [
       "<Figure size 432x288 with 2 Axes>"
      ]
     },
     "metadata": {
      "needs_background": "light"
     },
     "output_type": "display_data"
    }
   ],
   "source": [
    "# Confusion matrix\n",
    "plot_confusion_matrix(pipe, X_test, y_test, cmap='Greens', display_labels = ['Not ED', 'ED'])\n",
    "\n",
    "plt.savefig('pics/ed.png')"
   ]
  },
  {
   "cell_type": "markdown",
   "id": "beb32614-78b7-401d-8c6e-d24e91c9ff3c",
   "metadata": {},
   "source": [
    "Energy Shots:"
   ]
  },
  {
   "cell_type": "code",
   "execution_count": 89,
   "id": "67a9a67a-9e68-4fb4-93f1-30eb635f4c32",
   "metadata": {},
   "outputs": [],
   "source": [
    "y = df_dummies['type_Energy Shots']"
   ]
  },
  {
   "cell_type": "code",
   "execution_count": 90,
   "id": "e8d6445c-7ae9-4d2a-a1c8-54a22f6dc6c6",
   "metadata": {},
   "outputs": [],
   "source": [
    "X_train, X_test, y_train, y_test = train_test_split(X, y, random_state = 42)"
   ]
  },
  {
   "cell_type": "code",
   "execution_count": 91,
   "id": "609d090f-d399-4a5b-b627-5c1007ef813e",
   "metadata": {},
   "outputs": [
    {
     "data": {
      "text/plain": [
       "Pipeline(steps=[('cvec', CountVectorizer()), ('nb', MultinomialNB())])"
      ]
     },
     "execution_count": 91,
     "metadata": {},
     "output_type": "execute_result"
    }
   ],
   "source": [
    "pipe.fit(X_train, y_train)"
   ]
  },
  {
   "cell_type": "code",
   "execution_count": 92,
   "id": "839fbf82-5918-497e-8f9e-e376b05ee4e0",
   "metadata": {},
   "outputs": [
    {
     "name": "stdout",
     "output_type": "stream",
     "text": [
      "Train: 1.0\n",
      "Test: 0.9803921568627451\n"
     ]
    }
   ],
   "source": [
    "print('Train:', pipe.score(X_train, y_train))\n",
    "print('Test:', pipe.score(X_test, y_test))"
   ]
  },
  {
   "cell_type": "code",
   "execution_count": 93,
   "id": "b3ce1853-e306-4632-aab4-3cb87fbe875a",
   "metadata": {},
   "outputs": [
    {
     "data": {
      "image/png": "[encoded data removed]",
      "text/plain": [
       "<Figure size 432x288 with 2 Axes>"
      ]
     },
     "metadata": {
      "needs_background": "light"
     },
     "output_type": "display_data"
    }
   ],
   "source": [
    "# Confusion matrix\n",
    "plot_confusion_matrix(pipe, X_test, y_test, cmap='Greens', display_labels = ['Not ES', 'ES'])\n",
    "\n",
    "plt.savefig('pics/es.png')"
   ]
  },
  {
   "cell_type": "markdown",
   "id": "765a7156-3a33-44fb-b1ef-f536483f32f6",
   "metadata": {},
   "source": [
    "Soft Drinks:"
   ]
  },
  {
   "cell_type": "code",
   "execution_count": 94,
   "id": "9fcd26c9-a221-4d31-a9ab-8b95e6dc2069",
   "metadata": {},
   "outputs": [],
   "source": [
    "y = df_dummies['type_Soft Drinks']"
   ]
  },
  {
   "cell_type": "code",
   "execution_count": 95,
   "id": "64fe5ad0-f44d-41f6-bf11-bbdc49093cd2",
   "metadata": {},
   "outputs": [],
   "source": [
    "X_train, X_test, y_train, y_test = train_test_split(X, y, random_state = 42)"
   ]
  },
  {
   "cell_type": "code",
   "execution_count": 96,
   "id": "e2ea1465-5271-415c-b9f6-0ffa6755a4d2",
   "metadata": {},
   "outputs": [
    {
     "data": {
      "text/plain": [
       "Pipeline(steps=[('cvec', CountVectorizer()), ('nb', MultinomialNB())])"
      ]
     },
     "execution_count": 96,
     "metadata": {},
     "output_type": "execute_result"
    }
   ],
   "source": [
    "pipe.fit(X_train, y_train)"
   ]
  },
  {
   "cell_type": "code",
   "execution_count": 97,
   "id": "da6f662d-3915-4584-aa58-61ab93a8e467",
   "metadata": {},
   "outputs": [
    {
     "name": "stdout",
     "output_type": "stream",
     "text": [
      "Train: 0.9781181619256017\n",
      "Test: 0.9607843137254902\n"
     ]
    }
   ],
   "source": [
    "print('Train:', pipe.score(X_train, y_train))\n",
    "print('Test:', pipe.score(X_test, y_test))"
   ]
  },
  {
   "cell_type": "code",
   "execution_count": 98,
   "id": "ff4aa4c4-2b10-48e8-a2c4-bd87d135c7f4",
   "metadata": {},
   "outputs": [
    {
     "data": {
      "image/png": "[encoded data removed]",
      "text/plain": [
       "<Figure size 432x288 with 2 Axes>"
      ]
     },
     "metadata": {
      "needs_background": "light"
     },
     "output_type": "display_data"
    }
   ],
   "source": [
    "# Confusion matrix\n",
    "plot_confusion_matrix(pipe, X_test, y_test, cmap='Greens', display_labels = ['Not Soft_D', 'Soft_D'])\n",
    "\n",
    "plt.savefig('pics/soft_d.png')"
   ]
  },
  {
   "cell_type": "markdown",
   "id": "0410b06a-bda9-4474-8532-f0d7946e1f0f",
   "metadata": {},
   "source": [
    "Tea:"
   ]
  },
  {
   "cell_type": "code",
   "execution_count": 99,
   "id": "7b173111-cd2a-4b3e-b17f-9fe29ef66a2f",
   "metadata": {},
   "outputs": [],
   "source": [
    "y = df_dummies['type_Tea']"
   ]
  },
  {
   "cell_type": "code",
   "execution_count": 100,
   "id": "6e8330ea-6991-431c-8d5b-cccf4d844287",
   "metadata": {},
   "outputs": [],
   "source": [
    "X_train, X_test, y_train, y_test = train_test_split(X, y, random_state = 42)"
   ]
  },
  {
   "cell_type": "code",
   "execution_count": 101,
   "id": "d8b575d6-7be0-4726-8312-e8c271e91da8",
   "metadata": {},
   "outputs": [
    {
     "data": {
      "text/plain": [
       "Pipeline(steps=[('cvec', CountVectorizer()), ('nb', MultinomialNB())])"
      ]
     },
     "execution_count": 101,
     "metadata": {},
     "output_type": "execute_result"
    }
   ],
   "source": [
    "pipe.fit(X_train, y_train)"
   ]
  },
  {
   "cell_type": "code",
   "execution_count": 102,
   "id": "aa62c40f-88c1-4113-b13b-263220e15a57",
   "metadata": {},
   "outputs": [
    {
     "name": "stdout",
     "output_type": "stream",
     "text": [
      "Train: 0.9934354485776805\n",
      "Test: 0.9869281045751634\n"
     ]
    }
   ],
   "source": [
    "print('Train:', pipe.score(X_train, y_train))\n",
    "print('Test:', pipe.score(X_test, y_test))"
   ]
  },
  {
   "cell_type": "code",
   "execution_count": 103,
   "id": "1c0882a6-fce7-4a30-add9-c67b3ae83fe9",
   "metadata": {},
   "outputs": [
    {
     "data": {
      "image/png": "[encoded data removed]",
      "text/plain": [
       "<Figure size 432x288 with 2 Axes>"
      ]
     },
     "metadata": {
      "needs_background": "light"
     },
     "output_type": "display_data"
    }
   ],
   "source": [
    "# Confusion matrix\n",
    "plot_confusion_matrix(pipe, X_test, y_test, cmap='Greens', display_labels = ['Not Tea', 'Tea'])\n",
    "\n",
    "plt.savefig('pics/tea.png')"
   ]
  },
  {
   "cell_type": "markdown",
   "id": "6b706571-c75a-40bd-a505-fd7c917b0516",
   "metadata": {},
   "source": [
    "Water:"
   ]
  },
  {
   "cell_type": "code",
   "execution_count": 104,
   "id": "6914897d-572c-4c92-b079-b7f85ff83120",
   "metadata": {},
   "outputs": [],
   "source": [
    "y = df_dummies['type_Water']"
   ]
  },
  {
   "cell_type": "code",
   "execution_count": 105,
   "id": "5b7f3eb6-e1da-48af-b5de-eff320f31268",
   "metadata": {},
   "outputs": [],
   "source": [
    "X_train, X_test, y_train, y_test = train_test_split(X, y, random_state = 42)"
   ]
  },
  {
   "cell_type": "code",
   "execution_count": 106,
   "id": "ce157b20-062c-4e69-8c55-428381118a53",
   "metadata": {},
   "outputs": [
    {
     "data": {
      "text/plain": [
       "Pipeline(steps=[('cvec', CountVectorizer()), ('nb', MultinomialNB())])"
      ]
     },
     "execution_count": 106,
     "metadata": {},
     "output_type": "execute_result"
    }
   ],
   "source": [
    "pipe.fit(X_train, y_train)"
   ]
  },
  {
   "cell_type": "code",
   "execution_count": 107,
   "id": "941b448b-a697-4005-a14e-b412d0cbb9f8",
   "metadata": {},
   "outputs": [
    {
     "name": "stdout",
     "output_type": "stream",
     "text": [
      "Train: 1.0\n",
      "Test: 0.9869281045751634\n"
     ]
    }
   ],
   "source": [
    "print('Train:', pipe.score(X_train, y_train))\n",
    "print('Test:', pipe.score(X_test, y_test))"
   ]
  },
  {
   "cell_type": "code",
   "execution_count": 108,
   "id": "1dee0304-9253-494e-9b6c-fa532a20facb",
   "metadata": {},
   "outputs": [
    {
     "data": {
      "image/png": "[encoded data removed]",
      "text/plain": [
       "<Figure size 432x288 with 2 Axes>"
      ]
     },
     "metadata": {
      "needs_background": "light"
     },
     "output_type": "display_data"
    }
   ],
   "source": [
    "# Confusion matrix\n",
    "plot_confusion_matrix(pipe, X_test, y_test, cmap='Greens', display_labels = ['Not Water', 'Water'])\n",
    "\n",
    "plt.savefig('pics/water.png')"
   ]
  },
  {
   "cell_type": "markdown",
   "id": "45ec0bc5-cc72-45d2-a44e-1da916d00c79",
   "metadata": {},
   "source": [
    "All of these models are good"
   ]
  },
  {
   "cell_type": "markdown",
   "id": "625493c1-d017-44a2-b821-1063ba489a0c",
   "metadata": {},
   "source": [
    "#### Conclusion: While it is difficult to tell what type of drink it is based on volume, calories, and caffiene content, we can based on the label. What this tells us is 2 things:\n",
    "1. Companies label their products properly\n",
    "2. All categories of drinks that boost you up have similar specs. So choose the drink that fits you best!"
   ]
  },
  {
   "cell_type": "code",
   "execution_count": null,
   "id": "d6369fdb-fb9e-4f13-9a80-b6f081399b49",
   "metadata": {},
   "outputs": [],
   "source": []
  }
 ],
 "metadata": {
  "kernelspec": {
   "display_name": "Python 3 (ipykernel)",
   "language": "python",
   "name": "python3"
  },
  "language_info": {
   "codemirror_mode": {
    "name": "ipython",
    "version": 3
   },
   "file_extension": ".py",
   "mimetype": "text/x-python",
   "name": "python",
   "nbconvert_exporter": "python",
   "pygments_lexer": "ipython3",
   "version": "3.9.7"
  }
 },
 "nbformat": 4,
 "nbformat_minor": 5
}
